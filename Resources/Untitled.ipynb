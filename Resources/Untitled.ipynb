{
 "cells": [
  {
   "cell_type": "code",
   "execution_count": null,
   "id": "2313755c-87b1-4985-b3a3-41e104d54ae8",
   "metadata": {},
   "outputs": [],
   "source": [
    "#Calculate the daily standard deviation for all portfolios and the S&P 500\n",
    "combined_returns[\"SOROS FUND MANAGEMENT LLC\"].std()\n",
    "#combined_returns[\"PAULSON & CO.INC.\"].std()\n",
    "#combined_returns[\"TIGER GLOBAL MANAGEMENT LLC\"].std()\n",
    "#combined_returns[\"BERKSHIRE HATHAWAY INC\"].std()\n",
    "#combined_returns[\"Algo 1\"].std()\n",
    "#combined_returns[\"Algo 2\"].std()\n",
    "\n",
    "\n",
    "SOROS FUND MANAGEMENT LLC      0.007895\n",
    "PAULSON & CO.INC.              0.007023\n",
    "TIGER GLOBAL MANAGEMENT LLC    0.010894\n",
    "BERKSHIRE HATHAWAY INC         0.012919\n",
    "Algo 1                         0.007620\n",
    "Algo 2                         0.008342\n",
    "S&P 500                        0.008554"
   ]
  },
  {
   "cell_type": "code",
   "execution_count": null,
   "id": "abee8891-1239-4fc2-a80f-77c967960a59",
   "metadata": {},
   "outputs": [],
   "source": [
    "#Calculate the daily standard deviation for all portfolios and the S&P 500\n",
    "combined_returns_std = combined_returns.std()\n",
    "combined_returns_std"
   ]
  },
  {
   "cell_type": "code",
   "execution_count": null,
   "id": "130804d8-2f96-419b-a064-c03e8d26678b",
   "metadata": {},
   "outputs": [],
   "source": [
    "#Rename the Paulson portfolio header to add a space between \"CO.\" and \"INC.\" and remove the perdiods\n",
    "whale_df = whale_df.rename(columns={\"PAULSON & CO.INC.\":\"PAULSON\"})\n",
    "whale_df.columns"
   ]
  }
 ],
 "metadata": {
  "kernelspec": {
   "display_name": "Python 3 (ipykernel)",
   "language": "python",
   "name": "python3"
  },
  "language_info": {
   "codemirror_mode": {
    "name": "ipython",
    "version": 3
   },
   "file_extension": ".py",
   "mimetype": "text/x-python",
   "name": "python",
   "nbconvert_exporter": "python",
   "pygments_lexer": "ipython3",
   "version": "3.8.8"
  }
 },
 "nbformat": 4,
 "nbformat_minor": 5
}
